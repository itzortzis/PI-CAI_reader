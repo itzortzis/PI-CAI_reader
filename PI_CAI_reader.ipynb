{
  "nbformat": 4,
  "nbformat_minor": 0,
  "metadata": {
    "colab": {
      "provenance": [],
      "machine_shape": "hm"
    },
    "kernelspec": {
      "name": "python3",
      "display_name": "Python 3"
    },
    "language_info": {
      "name": "python"
    },
    "accelerator": "GPU",
    "gpuClass": "premium"
  },
  "cells": [
    {
      "cell_type": "code",
      "execution_count": 1,
      "metadata": {
        "colab": {
          "base_uri": "https://localhost:8080/"
        },
        "id": "NUR5LeQpPSfg",
        "outputId": "ace32f47-a34c-4b80-f25a-80ef27e6e52f"
      },
      "outputs": [
        {
          "output_type": "stream",
          "name": "stdout",
          "text": [
            "Drive already mounted at /content/drive; to attempt to forcibly remount, call drive.mount(\"/content/drive\", force_remount=True).\n",
            "/content/drive/My Drive/phd/data/prostate\n"
          ]
        }
      ],
      "source": [
        "from google.colab import drive\n",
        "drive.mount('/content/drive')\n",
        "%cd \"path_to_your_project_root\""
      ]
    },
    {
      "cell_type": "code",
      "source": [
        "%%capture\n",
        "!pip install nibabel pydicom medpy"
      ],
      "metadata": {
        "id": "CPaB5bcDUk1R"
      },
      "execution_count": 2,
      "outputs": []
    },
    {
      "cell_type": "code",
      "source": [
        "import pi_cai_reader_core.pre_processing as pp_utils\n",
        "import pi_cai_reader_core.dataloader as dl_utils"
      ],
      "metadata": {
        "id": "HYa9Ym4uUtqZ"
      },
      "execution_count": 3,
      "outputs": []
    },
    {
      "cell_type": "code",
      "source": [
        "\n",
        "# Relative path to the dataset root\n",
        "dtst_root = '../datasets/Prostate/picai/'\n",
        "\n",
        "paths = {\n",
        "    'mha_root': dtst_root + 'fold_0/picai_public_images_fold0/',\n",
        "    'nii_root': dtst_root + 'picai_labels/anatomical_delineations/whole_gland/AI/Bosma22b/'\n",
        "}"
      ],
      "metadata": {
        "id": "EBw9DDpaPnK7"
      },
      "execution_count": 4,
      "outputs": []
    },
    {
      "cell_type": "code",
      "source": [
        "dataset = pp_utils.create_dataset(paths)"
      ],
      "metadata": {
        "id": "FvjYEVPNWSbv",
        "colab": {
          "base_uri": "https://localhost:8080/"
        },
        "outputId": "679d307a-51ac-47e2-a149-ea1303141978"
      },
      "execution_count": 5,
      "outputs": [
        {
          "output_type": "stream",
          "name": "stdout",
          "text": [
            "Building dictionary for masks...\n",
            "Fetching MRI series and niftis for all patients...\n",
            "Converting series to standalone images...\n",
            "This may take a while...\n"
          ]
        }
      ]
    },
    {
      "cell_type": "code",
      "source": [
        "import torch\n",
        "\n",
        "train = dataset[:800]\n",
        "test = dataset[800:1000]\n",
        "\n",
        "train_set     = dl_utils.Dataset(train)\n",
        "params        = {'batch_size': 10, 'shuffle': True}\n",
        "train_set_ldr = torch.utils.data.DataLoader(train_set, **params)\n",
        "\n",
        "test_set     = dl_utils.Dataset(test)\n",
        "params       = {'batch_size': 10, 'shuffle': True}\n",
        "test_set_ldr = torch.utils.data.DataLoader(test_set, **params)\n",
        "  "
      ],
      "metadata": {
        "id": "6lYnoWYNXAdt"
      },
      "execution_count": null,
      "outputs": []
    }
  ]
}
